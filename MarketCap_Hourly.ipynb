{
 "cells": [
  {
   "cell_type": "code",
   "execution_count": null,
   "metadata": {},
   "outputs": [],
   "source": [
    "pip install sanpy"
   ]
  },
  {
   "cell_type": "code",
   "execution_count": null,
   "metadata": {},
   "outputs": [],
   "source": [
    "# API key - qovlkte53ks5zjha_jcn4x4363pnaroe2\n",
    "from san import *\n",
    "import san\n",
    "from decimal import Decimal\n",
    "import pandas as pd\n",
    "import datetime"
   ]
  },
  {
   "cell_type": "code",
   "execution_count": null,
   "metadata": {},
   "outputs": [],
   "source": [
    "import san\n",
    "san.ApiConfig.api_key = 'qovlkte53ks5zjha_jcn4x4363pnaroe2'\n",
    "san.get(\"projects/all\")"
   ]
  },
  {
   "cell_type": "code",
   "execution_count": null,
   "metadata": {},
   "outputs": [],
   "source": [
    "# Getting all slugs/tickers/names/marketsegment/supply and dropping all with missing or 0 supply\n",
    "data = san.get(\"projects/all\")\n",
    "data = data.dropna()\n",
    "data['totalSupply'] = data['totalSupply'].astype(float)\n",
    "data = data[data['totalSupply'] != 0]"
   ]
  },
  {
   "cell_type": "code",
   "execution_count": null,
   "metadata": {},
   "outputs": [],
   "source": [
    "# Limiting only to Cryptocurrency\n",
    "crypto = data[data[\"marketSegment\"] == \"Cryptocurrency\"]\n",
    "crypto = crypto.sort_values(by = [\"totalSupply\"], ascending = False)\n",
    "crypto"
   ]
  },
  {
   "cell_type": "code",
   "execution_count": null,
   "metadata": {},
   "outputs": [],
   "source": [
    "def metriclist(slug):\n",
    "    metric = \"marketcap_usd\" \n",
    "    fullname = metric + \"/\" + slug \n",
    "    metrics = san.get(\n",
    "    fullname,\n",
    "    from_date=\"2018-04-01\",\n",
    "    to_date=\"2021-04-01\",\n",
    "    interval=\"1h\"\n",
    "    )\n",
    "    newname = slug+\"_\"+metric\n",
    "    finaldf = metrics.rename(columns={\"value\": newname})\n",
    "    return(finaldf)"
   ]
  },
  {
   "cell_type": "code",
   "execution_count": null,
   "metadata": {},
   "outputs": [],
   "source": [
    "# Change metric and slug fullname = metric + slug\n",
    "# Running through all cryptocurrencies and adding price and daily returns\n",
    "count = 0\n",
    "metric_df = pd.DataFrame()\n",
    "for i in crypto['slug'].tolist():\n",
    "    holddf = metriclist(i)\n",
    "    if count == 0:\n",
    "        metric_df = holddf\n",
    "    else:\n",
    "        metric_df = pd.merge(metric_df, holddf, how = \"left\", on = \"datetime\")\n",
    "    count = count+1"
   ]
  }
 ],
 "metadata": {
  "kernelspec": {
   "display_name": "Python 3",
   "language": "python",
   "name": "python3"
  },
  "language_info": {
   "codemirror_mode": {
    "name": "ipython",
    "version": 3
   },
   "file_extension": ".py",
   "mimetype": "text/x-python",
   "name": "python",
   "nbconvert_exporter": "python",
   "pygments_lexer": "ipython3",
   "version": "3.8.5"
  }
 },
 "nbformat": 4,
 "nbformat_minor": 4
}
